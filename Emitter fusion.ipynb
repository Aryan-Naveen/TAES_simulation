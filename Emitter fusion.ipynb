{
 "cells": [
  {
   "cell_type": "code",
   "execution_count": 146,
   "metadata": {},
   "outputs": [],
   "source": [
    "import numpy as np\n",
    "import json\n",
    "import numpy as np\n",
    "import matplotlib.pyplot as plt\n",
    "import math\n",
    "from scipy.stats import multivariate_normal\n",
    "from scipy.stats import invwishart as iw\n",
    "from data_fusion import Data_fusion\n",
    "import matplotlib.pyplot as plt\n",
    "from dict_search import gen_dict_extract\n",
    "\n",
    "zero = np.zeros((3,1))\n",
    "df = 10\n",
    "\n",
    "def inv(M):\n",
    "    if M.size == 1:\n",
    "        return M**(-1)\n",
    "    else:\n",
    "        return np.linalg.inv(M)\n",
    "    \n",
    "\n",
    "def normalize(v):\n",
    "    return v * (np.linalg.norm(v))**(-1)\n",
    "\n",
    "def MSE(u, v):\n",
    "    return  ((u - v)**2).mean(axis=None)"
   ]
  },
  {
   "cell_type": "code",
   "execution_count": 147,
   "metadata": {},
   "outputs": [],
   "source": [
    "def plot_data_inputs(robot_locs, satellite_locs):\n",
    "    pass\n",
    "#     fig = plt.figure()\n",
    "#     ax = plt.axes(projection='3d')\n",
    "#     ax.scatter(robot_locs[:,0], robot_locs[:,1], robot_locs[:,2])\n",
    "#     ax.scatter(satellite_locs[:,0], satellite_locs[:,1], satellite_locs[:,2])"
   ]
  },
  {
   "cell_type": "code",
   "execution_count": 148,
   "metadata": {},
   "outputs": [],
   "source": [
    "class Data():\n",
    "    def __init__(self, Y, H, std):\n",
    "        self.Y = Y\n",
    "        self.H = H\n",
    "        self.std = std\n",
    "        self.batch_ind = 0\n",
    "    \n",
    "    def getY(self):\n",
    "        return self.Y\n",
    "    \n",
    "    def getH(self):\n",
    "        return self.H\n",
    "    \n",
    "    def getStdDev(self):\n",
    "        return self.std\n",
    "    \n",
    "    def completed(self):\n",
    "        return self.batch_ind == self.Y.size\n",
    "    \n",
    "    #returns R and not s\n",
    "    def getNextBatch(self):\n",
    "        self.batch_ind += 1\n",
    "        return self.H[self.batch_ind - 1].reshape(1,3), self.Y[self.batch_ind - 1][0], self.std[self.batch_ind - 1][0]**2"
   ]
  },
  {
   "cell_type": "markdown",
   "metadata": {},
   "source": [
    "# Data Generation"
   ]
  },
  {
   "cell_type": "markdown",
   "metadata": {},
   "source": [
    "###### Reads in \"node_config.json\" and computes H vectors (vectors that connect emitter and observer) "
   ]
  },
  {
   "cell_type": "code",
   "execution_count": 149,
   "metadata": {},
   "outputs": [],
   "source": [
    "def get_H(robot_num):\n",
    "    robot_loc = np.array(json.load(open(\"robot_poses.json\"))[\"positions\"])\n",
    "    n = 0\n",
    "    fin = open(\"node_config.json\") \n",
    "    inp = json.load(fin)\n",
    "    corr_s = [inp['emitters']['GROUND']['corr'], \n",
    "              inp['emitters']['GPS']['corr'], \n",
    "              inp['emitters']['GLONASS']['corr'], \n",
    "              inp['emitters']['GALILEO']['corr']]\n",
    "    \n",
    "    emitters = np.array([inp['emitters']['GROUND']['data'], \n",
    "                        inp['emitters']['GPS']['data'],\n",
    "                        inp['emitters']['GLONASS']['data'],\n",
    "                        inp['emitters']['GALILEO']['data']]).reshape(4*len(inp['emitters']['GROUND']['data']), 3)\n",
    "\n",
    "    \n",
    "    fusion = Data_fusion(inp['technique'])\n",
    "\n",
    "    H = np.zeros((len(emitters), 3))\n",
    "    i = 0\n",
    "    for node in emitters:\n",
    "        H[i,:][:3] = np.array(node) - robot_loc[robot_num]\n",
    "        i+=1\n",
    "        \n",
    "    \n",
    "    plot_data_inputs(robot_loc, np.array(emitters))\n",
    "    \n",
    "    return H, len(emitters), fusion, corr_s\n",
    "\n",
    "def generate_R(corr, n):\n",
    "    diag = np.random.rand(n, 1).reshape(n, 1, 1)\n",
    "    R = np.zeros((n, n))\n",
    "    for i in range(n):\n",
    "        for j in range(i+1):\n",
    "            R[i][j] = np.sqrt(diag[i])*np.sqrt(diag[j])*corr[int(i/10)]\n",
    "            R[j][i] = R[i, j]\n",
    "    return R"
   ]
  },
  {
   "cell_type": "markdown",
   "metadata": {},
   "source": [
    "###### Returns projected velocity along corresponding geometric vector for emitter (H--> geometric vector)"
   ]
  },
  {
   "cell_type": "code",
   "execution_count": 150,
   "metadata": {},
   "outputs": [],
   "source": [
    "def get_true_Y(H):\n",
    "    true_mu = np.random.multivariate_normal(zero.reshape(3,), 50*np.identity(3)).reshape(3,1)\n",
    "    return (H@true_mu).reshape(H.shape[0], 1), true_mu"
   ]
  },
  {
   "cell_type": "markdown",
   "metadata": {},
   "source": [
    "###### Returns \"observed\" y value that adds error to the true y based on the randomly generated R variance"
   ]
  },
  {
   "cell_type": "code",
   "execution_count": 155,
   "metadata": {},
   "outputs": [],
   "source": [
    "def get_y(true_Y, R):\n",
    "    Y = np.zeros((n , 1))\n",
    "    for i in range(true_Y.size):\n",
    "#         Y[i] = np.random.multivariate_normal(true_Y[i], np.array([[R[i]]]))\n",
    "        Y[i] = true_Y[i]\n",
    "    return Y"
   ]
  },
  {
   "cell_type": "code",
   "execution_count": null,
   "metadata": {},
   "outputs": [],
   "source": []
  },
  {
   "cell_type": "markdown",
   "metadata": {},
   "source": [
    "## Fusion Integration"
   ]
  },
  {
   "cell_type": "code",
   "execution_count": 156,
   "metadata": {},
   "outputs": [],
   "source": [
    "def getInitialInformationMatrix(data):\n",
    "    I = np.zeros((3, 3))\n",
    "    i = np.zeros((3, 1))\n",
    "    for _ in range(10):\n",
    "        H, y, R = data.getNextBatch()\n",
    "        I = I + H.T @ H * inv(R) \n",
    "        i = i + H.T * inv(R) * y\n",
    "    return I, i\n",
    "\n",
    "    \n",
    "    \n",
    "def add_satellite(data, I, i, fusion):\n",
    "    H, y, R = data.getNextBatch()\n",
    "\n",
    "    #compute state dimensional from information \n",
    "    C = np.linalg.inv(I)\n",
    "    mu = C @ i\n",
    "    \n",
    "    #normalize H first\n",
    "    u = H\n",
    "    \n",
    "    #project mat/vec in direction of u\n",
    "    mu_a = u @ mu\n",
    "    C_a = u @ C @ u.T\n",
    "\n",
    "    #set-up b distribution\n",
    "    mu_b = np.array(y).reshape(1, 1)\n",
    "    C_b = np.array(R).reshape(1, 1)\n",
    "    \n",
    "    \n",
    "    x_f, C_f = fusion.fuse(mu_a, mu_b, C_a, C_b)\n",
    "\n",
    "    \n",
    "    #Compute additional information\n",
    "    D = inv(inv(C_f) - inv(C_a))\n",
    "    x_d = D @ (inv(C_f) @ x_f - inv(C_a) @ mu_a)\n",
    "    \n",
    "    \n",
    "    fused_I = I + inv(D) * u.T @ u\n",
    "    fused_i = i + u.T * inv(D) * x_d\n",
    "    return fused_I, fused_i"
   ]
  },
  {
   "cell_type": "code",
   "execution_count": 157,
   "metadata": {},
   "outputs": [
    {
     "name": "stdout",
     "output_type": "stream",
     "text": [
      "[[0.04304989 0.10543066 0.08773733 0.06769193 0.08291578 0.10722612\n",
      "  0.0941797  0.04746212 0.06771316 0.0548048  0.04169604 0.07021688\n",
      "  0.04781792 0.06364787 0.05012488 0.06364468 0.07358787 0.06984107\n",
      "  0.03994683 0.07701838 0.25715858 0.24683067 0.20270688 0.25155094]\n",
      " [0.10543066 0.25820331 0.21487174 0.16577987 0.20306359 0.26260045\n",
      "  0.23064932 0.11623635 0.16583184 0.13421883 0.10211503 0.17196353\n",
      "  0.11710773 0.15587582 0.12275754 0.155868   0.18021921 0.17104319\n",
      "  0.09783115 0.18862064 0.62979017 0.60449678 0.4964361  0.61605686]\n",
      " [0.08773733 0.21487174 0.17881205 0.13795876 0.16898554 0.21853095\n",
      "  0.19194184 0.09672961 0.13800201 0.11169428 0.08497813 0.14310468\n",
      "  0.09745476 0.1297168  0.10215642 0.12971029 0.1499749  0.14233879\n",
      "  0.08141317 0.1569664  0.52409904 0.50305038 0.4131244  0.51267046]\n",
      " [0.06769193 0.16577987 0.13795876 0.10643924 0.13037731 0.16860306\n",
      "  0.14808878 0.07462974 0.10647261 0.08617543 0.06556313 0.11040947\n",
      "  0.07518921 0.10008033 0.07881669 0.10007531 0.11571005 0.10981856\n",
      "  0.06281265 0.1211042  0.40435783 0.38811817 0.31873763 0.39554034]\n",
      " [0.08291578 0.20306359 0.16898554 0.13037731 0.15969904 0.20652171\n",
      "  0.18139379 0.09141389 0.13041819 0.10555619 0.08030821 0.13524045\n",
      "  0.09209919 0.12258829 0.09654248 0.12258214 0.14173312 0.13451664\n",
      "  0.07693915 0.14834041 0.49529749 0.47540554 0.39042139 0.48449695]\n",
      " [0.10722612 0.26260045 0.21853095 0.16860306 0.20652171 0.26707247\n",
      "  0.23457722 0.11821583 0.16865592 0.13650455 0.10385403 0.17489203\n",
      "  0.11910205 0.15853034 0.12484807 0.15852239 0.1832883  0.17395601\n",
      "  0.09949719 0.19183281 0.64051534 0.61479121 0.50489029 0.62654816]\n",
      " [0.0941797  0.23064932 0.19194184 0.14808878 0.18139379 0.23457722\n",
      "  0.20603573 0.10383226 0.14813521 0.11989576 0.09121789 0.15361256\n",
      "  0.10461066 0.13924163 0.10965755 0.13923465 0.16098724 0.15279043\n",
      "  0.08739116 0.16849212 0.56258253 0.53998831 0.44345925 0.55031477]\n",
      " [0.04746212 0.11623635 0.09672961 0.07462974 0.09141389 0.11821583\n",
      "  0.10383226 0.05232655 0.07465314 0.06042179 0.04596951 0.07741347\n",
      "  0.05271882 0.0701712  0.05526222 0.07016768 0.08112996 0.07699915\n",
      "  0.04404101 0.08491206 0.283515   0.27212857 0.2234825  0.27733262]\n",
      " [0.06771316 0.16583184 0.13800201 0.10647261 0.13041819 0.16865592\n",
      "  0.14813521 0.07465314 0.10650599 0.08620244 0.06558368 0.11044409\n",
      "  0.07521279 0.10011171 0.0788414  0.10010668 0.11574632 0.10985299\n",
      "  0.06283235 0.12114217 0.40448461 0.38823985 0.31883756 0.39566435]\n",
      " [0.0548048  0.13421883 0.11169428 0.08617543 0.10555619 0.13650455\n",
      "  0.11989576 0.06042179 0.08620244 0.06976942 0.05308127 0.08938981\n",
      "  0.06087475 0.08102712 0.06381163 0.08102305 0.09368126 0.0889114\n",
      "  0.05085443 0.09804848 0.32737652 0.31422855 0.25805663 0.3202377 ]\n",
      " [0.04169604 0.10211503 0.08497813 0.06556313 0.08030821 0.10385403\n",
      "  0.09121789 0.04596951 0.06558368 0.05308127 0.06177559 0.1040312\n",
      "  0.07084559 0.09429876 0.0742635  0.09429403 0.10902556 0.10347442\n",
      "  0.05918401 0.1141081  0.38099838 0.36569686 0.30032439 0.37269026]\n",
      " [0.07021688 0.17196353 0.14310468 0.11040947 0.13524045 0.17489203\n",
      "  0.15361256 0.07741347 0.11044409 0.08938981 0.1040312  0.17519039\n",
      "  0.11930523 0.15880079 0.12506106 0.15879283 0.18360099 0.17425278\n",
      "  0.09966693 0.19216007 0.64160805 0.61584004 0.50575162 0.62761704]\n",
      " [0.04781792 0.11710773 0.09745476 0.07518921 0.09209919 0.11910205\n",
      "  0.10461066 0.05271882 0.07521279 0.06087475 0.07084559 0.11930523\n",
      "  0.08124725 0.10814386 0.08516699 0.10813844 0.12503287 0.11866671\n",
      "  0.06787351 0.13086164 0.43693719 0.41938908 0.34441851 0.42740926]\n",
      " [0.06364787 0.15587582 0.1297168  0.10008033 0.12258829 0.15853034\n",
      "  0.13924163 0.0701712  0.10011171 0.08102712 0.09429876 0.15880079\n",
      "  0.10814386 0.14394449 0.11336122 0.14393727 0.16642455 0.15795089\n",
      "  0.09034278 0.17418291 0.58158365 0.55822631 0.45843701 0.56890154]\n",
      " [0.05012488 0.12275754 0.10215642 0.07881669 0.09654248 0.12484807\n",
      "  0.10965755 0.05526222 0.0788414  0.06381163 0.0742635  0.12506106\n",
      "  0.08516699 0.11336122 0.08927584 0.11335553 0.13106503 0.12439174\n",
      "  0.07114804 0.137175   0.45801704 0.43962233 0.36103484 0.44802944]\n",
      " [0.06364468 0.155868   0.12971029 0.10007531 0.12258214 0.15852239\n",
      "  0.13923465 0.07016768 0.10010668 0.08102305 0.09429403 0.15879283\n",
      "  0.10813844 0.14393727 0.11335553 0.14393005 0.1664162  0.15794297\n",
      "  0.09033825 0.17417417 0.58155448 0.55819831 0.45841401 0.56887301]\n",
      " [0.07358787 0.18021921 0.1499749  0.11571005 0.14173312 0.1832883\n",
      "  0.16098724 0.08112996 0.11574632 0.09368126 0.10902556 0.18360099\n",
      "  0.12503287 0.16642455 0.13106503 0.1664162  0.19241536 0.18261836\n",
      "  0.10445177 0.20138535 0.67241057 0.64540548 0.53003191 0.65774788]\n",
      " [0.06984107 0.17104319 0.14233879 0.10981856 0.13451664 0.17395601\n",
      "  0.15279043 0.07699915 0.10985299 0.0889114  0.10347442 0.17425278\n",
      "  0.11866671 0.15795089 0.12439174 0.15794297 0.18261836 0.17332018\n",
      "  0.09913351 0.19113163 0.63817417 0.61254406 0.50304484 0.62425804]\n",
      " [0.03994683 0.09783115 0.08141317 0.06281265 0.07693915 0.09949719\n",
      "  0.08739116 0.04404101 0.06283235 0.05085443 0.05918401 0.09966693\n",
      "  0.06787351 0.09034278 0.07114804 0.09033825 0.10445177 0.09913351\n",
      "  0.05670115 0.10932109 0.36501491 0.35035532 0.28772532 0.35705534]\n",
      " [0.07701838 0.18862064 0.1569664  0.1211042  0.14834041 0.19183281\n",
      "  0.16849212 0.08491206 0.12114217 0.09804848 0.1141081  0.19216007\n",
      "  0.13086164 0.17418291 0.137175   0.17417417 0.20138535 0.19113163\n",
      "  0.10932109 0.2107735  0.7037569  0.67549288 0.55474085 0.68841066]\n",
      " [0.25715858 0.62979017 0.52409904 0.40435783 0.49529749 0.64051534\n",
      "  0.56258253 0.283515   0.40448461 0.32737652 0.38099838 0.64160805\n",
      "  0.43693719 0.58158365 0.45801704 0.58155448 0.67241057 0.63817417\n",
      "  0.36501491 0.7037569  0.6955114  0.66757854 0.54824128 0.68034497]\n",
      " [0.24683067 0.60449678 0.50305038 0.38811817 0.47540554 0.61479121\n",
      "  0.53998831 0.27212857 0.38823985 0.31422855 0.36569686 0.61584004\n",
      "  0.41938908 0.55822631 0.43962233 0.55819831 0.64540548 0.61254406\n",
      "  0.35035532 0.67549288 0.66757854 0.6407675  0.52622303 0.65302121]\n",
      " [0.20270688 0.4964361  0.4131244  0.31873763 0.39042139 0.50489029\n",
      "  0.44345925 0.2234825  0.31883756 0.25805663 0.30032439 0.50575162\n",
      "  0.34441851 0.45843701 0.36103484 0.45841401 0.53003191 0.50304484\n",
      "  0.28772532 0.55474085 0.54824128 0.52622303 0.43215467 0.53628624]\n",
      " [0.25155094 0.61605686 0.51267046 0.39554034 0.48449695 0.62654816\n",
      "  0.55031477 0.27733262 0.39566435 0.3202377  0.37269026 0.62761704\n",
      "  0.42740926 0.56890154 0.44802944 0.56887301 0.65774788 0.62425804\n",
      "  0.35705534 0.68841066 0.68034497 0.65302121 0.53628624 0.66550926]]\n"
     ]
    }
   ],
   "source": [
    "mse = []\n",
    "anees = []\n",
    "for i in range(100):\n",
    "    H, n, fusion, corr = get_H(i)\n",
    "    true_Y, mu = get_true_Y(H)\n",
    "    R = generate_R(corr, n)\n",
    "    if (i ==0):\n",
    "        print(R)\n",
    "\n",
    "    Y = get_y(true_Y, np.diag(R))\n",
    "\n",
    "    data = Data(Y, H, R)\n",
    "\n",
    "    info_mat, info_vec = getInitialInformationMatrix(data)\n",
    "    while not data.completed():\n",
    "        info_mat, info_vec = add_satellite(data, info_mat, info_vec, fusion)\n",
    "    pred = ((inv(info_mat) @ info_vec))\n",
    "    covs = np.sqrt(np.diag(inv(info_mat)))[:3].reshape(3,)\n",
    "    error = pred - mu\n",
    "    \n",
    "    mse.append(MSE(mu, pred))\n",
    "    anees.append(error.T @ info_mat @ error)"
   ]
  },
  {
   "cell_type": "code",
   "execution_count": 158,
   "metadata": {},
   "outputs": [
    {
     "name": "stdout",
     "output_type": "stream",
     "text": [
      "2.354213918405176e-26\n",
      "6.640725497043202e-09\n"
     ]
    }
   ],
   "source": [
    "print(np.average(mse))\n",
    "print(np.average(anees))"
   ]
  },
  {
   "cell_type": "code",
   "execution_count": null,
   "metadata": {},
   "outputs": [],
   "source": []
  }
 ],
 "metadata": {
  "kernelspec": {
   "display_name": "Python 3",
   "language": "python",
   "name": "python3"
  },
  "language_info": {
   "codemirror_mode": {
    "name": "ipython",
    "version": 3
   },
   "file_extension": ".py",
   "mimetype": "text/x-python",
   "name": "python",
   "nbconvert_exporter": "python",
   "pygments_lexer": "ipython3",
   "version": "3.6.3"
  }
 },
 "nbformat": 4,
 "nbformat_minor": 2
}
