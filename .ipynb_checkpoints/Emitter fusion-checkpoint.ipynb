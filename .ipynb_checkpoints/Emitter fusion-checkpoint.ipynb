{
 "cells": [
  {
   "cell_type": "code",
   "execution_count": 10,
   "metadata": {},
   "outputs": [],
   "source": [
    "import numpy as np\n",
    "import json\n",
    "import numpy as np\n",
    "import matplotlib.pyplot as plt\n",
    "import math\n",
    "from scipy.stats import multivariate_normal\n",
    "from scipy.stats import invwishart as iw\n",
    "from data_fusion import Data_fusion\n",
    "import matplotlib.pyplot as plt\n",
    "from dict_search import gen_dict_extract\n",
    "\n",
    "zero = np.zeros((3,1))\n",
    "df = 10\n",
    "\n",
    "def inv(M):\n",
    "    if M.size == 1:\n",
    "        return M**(-1)\n",
    "    else:\n",
    "        return np.linalg.inv(M)\n",
    "    \n",
    "\n",
    "def normalize(v):\n",
    "    return v * (np.linalg.norm(v))**(-1)\n",
    "\n",
    "def MSE(u, v):\n",
    "    return  ((u - v)**2).mean(axis=None)"
   ]
  },
  {
   "cell_type": "code",
   "execution_count": 11,
   "metadata": {},
   "outputs": [],
   "source": [
    "def plot_data_inputs(robot_locs, satellite_locs):\n",
    "    pass\n",
    "#     fig = plt.figure()\n",
    "#     ax = plt.axes(projection='3d')\n",
    "#     ax.scatter(robot_locs[:,0], robot_locs[:,1], robot_locs[:,2])\n",
    "#     ax.scatter(satellite_locs[:,0], satellite_locs[:,1], satellite_locs[:,2])"
   ]
  },
  {
   "cell_type": "code",
   "execution_count": 12,
   "metadata": {},
   "outputs": [],
   "source": [
    "class Data():\n",
    "    def __init__(self, Y, H, std):\n",
    "        self.Y = Y\n",
    "        self.H = H\n",
    "        self.std = std\n",
    "        self.batch_ind = 0\n",
    "    \n",
    "    def getY(self):\n",
    "        return self.Y\n",
    "    \n",
    "    def getH(self):\n",
    "        return self.H\n",
    "    \n",
    "    def getStdDev(self):\n",
    "        return self.std\n",
    "    \n",
    "    def completed(self):\n",
    "        return self.batch_ind == self.Y.size\n",
    "    \n",
    "    #returns R and not s\n",
    "    def getNextBatch(self):\n",
    "        self.batch_ind += 1\n",
    "        return self.H[self.batch_ind - 1].reshape(1,3), self.Y[self.batch_ind - 1][0], self.std[self.batch_ind - 1][0]**2"
   ]
  },
  {
   "cell_type": "markdown",
   "metadata": {},
   "source": [
    "# Data Generation"
   ]
  },
  {
   "cell_type": "markdown",
   "metadata": {},
   "source": [
    "###### Reads in \"node_config.json\" and computes H vectors (vectors that connect emitter and observer) "
   ]
  },
  {
   "cell_type": "code",
   "execution_count": 13,
   "metadata": {},
   "outputs": [],
   "source": [
    "def get_H(robot_num):\n",
    "    robot_loc = np.array(json.load(open(\"robot_poses.json\"))[\"positions\"])\n",
    "    n = 0\n",
    "    fin = open(\"node_config.json\") \n",
    "    inp = json.load(fin)\n",
    "    corr_s = [inp['emitters']['GROUND']['corr'], \n",
    "              inp['emitters']['GPS']['corr'], \n",
    "              inp['emitters']['GLONASS']['corr'], \n",
    "              inp['emitters']['GALILEO']['corr']]\n",
    "    \n",
    "    emitters = np.array([inp['emitters']['GROUND']['data'], \n",
    "                        inp['emitters']['GPS']['data'],\n",
    "                        inp['emitters']['GLONASS']['data'],\n",
    "                        inp['emitters']['GALILEO']['data']]).reshape(4*len(inp['emitters']['GROUND']['data']), 3)\n",
    "\n",
    "    \n",
    "    fusion = Data_fusion(inp['technique'])\n",
    "\n",
    "    H = np.zeros((len(emitters), 3))\n",
    "    i = 0\n",
    "    for node in emitters:\n",
    "        H[i,:][:3] = np.array(node) - robot_loc[robot_num]\n",
    "        i+=1\n",
    "        \n",
    "    \n",
    "    plot_data_inputs(robot_loc, np.array(emitters))\n",
    "    \n",
    "    return H, len(emitters), fusion, corr_s\n",
    "\n",
    "def generate_R(corr, n):\n",
    "    diag = np.random.rand(n, 1).reshape(n, 1, 1)\n",
    "    R = np.zeros((n, n))\n",
    "    for i in range(n):\n",
    "        for j in range(i+1):\n",
    "            R[i][j] = np.sqrt(diag[i])*np.sqrt(diag[j])*corr[int(i/10)]\n",
    "            R[j][i] = R[i, j]\n",
    "    return R"
   ]
  },
  {
   "cell_type": "markdown",
   "metadata": {},
   "source": [
    "###### Returns projected velocity along corresponding geometric vector for emitter (H--> geometric vector)"
   ]
  },
  {
   "cell_type": "code",
   "execution_count": 14,
   "metadata": {},
   "outputs": [],
   "source": [
    "def get_true_Y(H):\n",
    "    true_mu = np.random.multivariate_normal(zero.reshape(3,), 50*np.identity(3)).reshape(3,1)\n",
    "    return (H@true_mu).reshape(H.shape[0], 1), true_mu"
   ]
  },
  {
   "cell_type": "markdown",
   "metadata": {},
   "source": [
    "###### Returns \"observed\" y value that adds error to the true y based on the randomly generated R variance"
   ]
  },
  {
   "cell_type": "code",
   "execution_count": 15,
   "metadata": {},
   "outputs": [],
   "source": [
    "def get_y(true_Y, R):\n",
    "    Y = np.zeros((n , 1))\n",
    "    for i in range(true_Y.size):\n",
    "        Y[i] = np.random.multivariate_normal(true_Y[i], np.array([[R[i]]]))\n",
    "#         Y[i] = true_Y[i]\n",
    "    return Y"
   ]
  },
  {
   "cell_type": "code",
   "execution_count": null,
   "metadata": {},
   "outputs": [],
   "source": []
  },
  {
   "cell_type": "markdown",
   "metadata": {},
   "source": [
    "## Fusion Integration"
   ]
  },
  {
   "cell_type": "code",
   "execution_count": 16,
   "metadata": {},
   "outputs": [],
   "source": [
    "def getInitialInformationMatrix(data):\n",
    "    I = np.zeros((3, 3))\n",
    "    i = np.zeros((3, 1))\n",
    "    for _ in range(10):\n",
    "        H, y, R = data.getNextBatch()\n",
    "        I = I + H.T @ H * inv(R) \n",
    "        i = i + H.T * inv(R) * y\n",
    "    return I, i\n",
    "\n",
    "    \n",
    "    \n",
    "def add_satellite(data, I, i, fusion):\n",
    "    H, y, R = data.getNextBatch()\n",
    "\n",
    "    #compute state dimensional from information \n",
    "    C = np.linalg.inv(I)\n",
    "    mu = C @ i\n",
    "    \n",
    "    #normalize H first\n",
    "    u = H\n",
    "    \n",
    "    #project mat/vec in direction of u\n",
    "    mu_a = u @ mu\n",
    "    C_a = u @ C @ u.T\n",
    "\n",
    "    #set-up b distribution\n",
    "    mu_b = np.array(y).reshape(1, 1)\n",
    "    C_b = np.array(R).reshape(1, 1)\n",
    "    \n",
    "    \n",
    "    x_f, C_f = fusion.fuse(mu_a, mu_b, C_a, C_b)\n",
    "\n",
    "    \n",
    "    #Compute additional information\n",
    "    D = inv(inv(C_f) - inv(C_a))\n",
    "    x_d = D @ (inv(C_f) @ x_f - inv(C_a) @ mu_a)\n",
    "    \n",
    "    \n",
    "    fused_I = I + inv(D) * u.T @ u\n",
    "    fused_i = i + u.T * inv(D) * x_d\n",
    "    return fused_I, fused_i"
   ]
  },
  {
   "cell_type": "code",
   "execution_count": 17,
   "metadata": {},
   "outputs": [
    {
     "name": "stdout",
     "output_type": "stream",
     "text": [
      "[[0.12753966 0.17295697 0.16212224 0.13434487 0.14885409 0.06027685\n",
      "  0.16355278 0.126718   0.1824408  0.11114467 0.23408359 0.12204157\n",
      "  0.1568027  0.2011735  0.08699263 0.11388131 0.08892858 0.1346513\n",
      "  0.19912078 0.1068682  0.13569017 0.08467755 0.13398848 0.13045622]\n",
      " [0.17295697 0.23454755 0.21985453 0.18218555 0.20186155 0.08174165\n",
      "  0.22179449 0.17184272 0.2474086  0.15072368 0.31744157 0.16550099\n",
      "  0.21264069 0.27281208 0.117971   0.15443484 0.12059636 0.18260109\n",
      "  0.27002838 0.14492434 0.18400991 0.11483152 0.18170224 0.17691213]\n",
      " [0.16212224 0.21985453 0.20608195 0.1707727  0.18921611 0.07662102\n",
      "  0.20790037 0.16107779 0.23190992 0.14128173 0.29755573 0.15513333\n",
      "  0.19932001 0.25572202 0.11058082 0.14476041 0.11304171 0.17116221\n",
      "  0.25311269 0.13584569 0.17248277 0.10763801 0.17031967 0.16582963]\n",
      " [0.13434487 0.18218555 0.1707727  0.1415132  0.15679659 0.06349308\n",
      "  0.17227957 0.13347938 0.19217541 0.11707509 0.24657374 0.12855342\n",
      "  0.16516933 0.21190764 0.09163435 0.11995775 0.0936736  0.14183597\n",
      "  0.20974539 0.11257044 0.14293027 0.08919575 0.14113779 0.13741705]\n",
      " [0.14885409 0.20186155 0.18921611 0.15679659 0.17373059 0.07035032\n",
      "  0.19088572 0.14789512 0.21293031 0.12971917 0.27320364 0.14243716\n",
      "  0.18300757 0.23479362 0.10153084 0.13291316 0.10379033 0.15715422\n",
      "  0.23239784 0.12472802 0.15836671 0.09882887 0.15638064 0.15225806]\n",
      " [0.06027685 0.08174165 0.07662102 0.06349308 0.07035032 0.0284876\n",
      "  0.07729711 0.05988853 0.08622383 0.05252837 0.11063086 0.05767839\n",
      "  0.07410694 0.09507714 0.04111381 0.05382174 0.04202877 0.0636379\n",
      "  0.09410699 0.05050726 0.06412889 0.04001968 0.06332465 0.06165525]\n",
      " [0.16355278 0.22179449 0.20790037 0.17227957 0.19088572 0.07729711\n",
      "  0.20973485 0.16249911 0.23395625 0.14252837 0.3001813  0.1565022\n",
      "  0.20107877 0.25797846 0.11155656 0.14603775 0.11403917 0.17267252\n",
      "  0.25534611 0.13704436 0.17400473 0.10858778 0.17182254 0.16729288]\n",
      " [0.126718   0.17184272 0.16107779 0.13347938 0.14789512 0.05988853\n",
      "  0.16249911 0.12590164 0.18126545 0.11042864 0.23257554 0.12125533\n",
      "  0.15579253 0.19987747 0.08643219 0.11314765 0.08835567 0.13378383\n",
      "  0.19783797 0.10617972 0.134816   0.08413203 0.13312528 0.12961577]\n",
      " [0.1824408  0.2474086  0.23190992 0.19217541 0.21293031 0.08622383\n",
      "  0.23395625 0.18126545 0.26097487 0.15898837 0.33484798 0.17457598\n",
      "  0.22430051 0.28777131 0.12443976 0.16290303 0.12720907 0.19261374\n",
      "  0.28483496 0.15287104 0.19409981 0.12112813 0.1916656  0.18661283]\n",
      " [0.11114467 0.15072368 0.14128173 0.11707509 0.12971917 0.05252837\n",
      "  0.14252837 0.11042864 0.15898837 0.09685723 0.20399258 0.10635335\n",
      "  0.13664601 0.17531302 0.07580989 0.09924208 0.07749698 0.11734212\n",
      "  0.17352417 0.09313049 0.11824745 0.07379241 0.11676451 0.11368631]\n",
      " [0.23408359 0.31744157 0.29755573 0.24657374 0.27320364 0.11063086\n",
      "  0.3001813  0.23257554 0.33484798 0.20399258 0.34031787 0.17742776\n",
      "  0.22796456 0.29247218 0.12647254 0.16556413 0.12928709 0.19576017\n",
      "  0.28948787 0.15536826 0.19727051 0.12310681 0.19479655 0.18966123]\n",
      " [0.12204157 0.16550099 0.15513333 0.12855342 0.14243716 0.05767839\n",
      "  0.1565022  0.12125533 0.17457598 0.10635335 0.17742776 0.09250355\n",
      "  0.11885136 0.15248298 0.06593759 0.08631833 0.06740498 0.10206131\n",
      "  0.15092708 0.08100263 0.10284874 0.06418283 0.10155892 0.09888157]\n",
      " [0.1568027  0.21264069 0.19932001 0.16516933 0.18300757 0.07410694\n",
      "  0.20107877 0.15579253 0.22430051 0.13664601 0.22796456 0.11885136\n",
      "  0.15270383 0.19591475 0.08471861 0.11090441 0.08660396 0.13113146\n",
      "  0.19391569 0.10407463 0.13214318 0.08246405 0.13048597 0.12704604]\n",
      " [0.2011735  0.27281208 0.25572202 0.21190764 0.23479362 0.09507714\n",
      "  0.25797846 0.19987747 0.28777131 0.17531302 0.29247218 0.15248298\n",
      "  0.19591475 0.25135317 0.10869162 0.14228727 0.11111046 0.16823802\n",
      "  0.24878842 0.13352485 0.16953602 0.10579908 0.16740987 0.16299653]\n",
      " [0.08699263 0.117971   0.11058082 0.09163435 0.10153084 0.04111381\n",
      "  0.11155656 0.08643219 0.12443976 0.07580989 0.12647254 0.06593759\n",
      "  0.08471861 0.10869162 0.04700107 0.0615287  0.04804704 0.07275047\n",
      "  0.10758255 0.0577396  0.07331176 0.04575026 0.07239236 0.07048392]\n",
      " [0.11388131 0.15443484 0.14476041 0.11995775 0.13291316 0.05382174\n",
      "  0.14603775 0.11314765 0.16290303 0.09924208 0.16556413 0.08631833\n",
      "  0.11090441 0.14228727 0.0615287  0.08054669 0.06289797 0.09523702\n",
      "  0.14083541 0.07558642 0.0959718  0.05989128 0.09476822 0.0922699 ]\n",
      " [0.08892858 0.12059636 0.11304171 0.0936736  0.10379033 0.04202877\n",
      "  0.11403917 0.08835567 0.12720907 0.07749698 0.12928709 0.06740498\n",
      "  0.08660396 0.11111046 0.04804704 0.06289797 0.04911629 0.07436948\n",
      "  0.10997672 0.05902455 0.07494326 0.0467684  0.0740034  0.07205248]\n",
      " [0.1346513  0.18260109 0.17116221 0.14183597 0.15715422 0.0636379\n",
      "  0.17267252 0.13378383 0.19261374 0.11734212 0.19576017 0.10206131\n",
      "  0.13113146 0.16823802 0.07275047 0.09523702 0.07436948 0.11260662\n",
      "  0.16652136 0.08937208 0.11347541 0.07081441 0.11205231 0.10909834]\n",
      " [0.19912078 0.27002838 0.25311269 0.20974539 0.23239784 0.09410699\n",
      "  0.25534611 0.19783797 0.28483496 0.17352417 0.28948787 0.15092708\n",
      "  0.19391569 0.24878842 0.10758255 0.14083541 0.10997672 0.16652136\n",
      "  0.24624985 0.1321624  0.16780611 0.10471953 0.16570166 0.16133336]\n",
      " [0.1068682  0.14492434 0.13584569 0.11257044 0.12472802 0.05050726\n",
      "  0.13704436 0.10617972 0.15287104 0.09313049 0.15536826 0.08100263\n",
      "  0.10407463 0.13352485 0.0577396  0.07558642 0.05902455 0.08937208\n",
      "  0.1321624  0.07093161 0.09006161 0.05620302 0.08893215 0.08658768]\n",
      " [0.13569017 0.18400991 0.17248277 0.14293027 0.15836671 0.06412889\n",
      "  0.17400473 0.134816   0.19409981 0.11824745 0.19727051 0.10284874\n",
      "  0.13214318 0.16953602 0.07331176 0.0959718  0.07494326 0.11347541\n",
      "  0.16780611 0.09006161 0.15059146 0.09397671 0.1487029  0.14478272]\n",
      " [0.08467755 0.11483152 0.10763801 0.08919575 0.09882887 0.04001968\n",
      "  0.10858778 0.08413203 0.12112813 0.07379241 0.12310681 0.06418283\n",
      "  0.08246405 0.10579908 0.04575026 0.05989128 0.0467684  0.07081441\n",
      "  0.10471953 0.05620302 0.09397671 0.05864624 0.09279816 0.09035177]\n",
      " [0.13398848 0.18170224 0.17031967 0.14113779 0.15638064 0.06332465\n",
      "  0.17182254 0.13312528 0.1916656  0.11676451 0.19479655 0.10155892\n",
      "  0.13048597 0.16740987 0.07239236 0.09476822 0.0740034  0.11205231\n",
      "  0.16570166 0.08893215 0.1487029  0.09279816 0.14683802 0.14296701]\n",
      " [0.13045622 0.17691213 0.16582963 0.13741705 0.15225806 0.06165525\n",
      "  0.16729288 0.12961577 0.18661283 0.11368631 0.18966123 0.09888157\n",
      "  0.12704604 0.16299653 0.07048392 0.0922699  0.07205248 0.10909834\n",
      "  0.16133336 0.08658768 0.14478272 0.09035177 0.14296701 0.13919805]]\n"
     ]
    }
   ],
   "source": [
    "mse = []\n",
    "anees = []\n",
    "for i in range(100):\n",
    "    H, n, fusion, corr = get_H(i)\n",
    "    true_Y, mu = get_true_Y(H)\n",
    "    R = generate_R(corr, n)\n",
    "    if (i ==0):\n",
    "        print(R)\n",
    "\n",
    "    Y = get_y(true_Y, np.diag(R))\n",
    "\n",
    "    data = Data(Y, H, R)\n",
    "\n",
    "    info_mat, info_vec = getInitialInformationMatrix(data)\n",
    "    while not data.completed():\n",
    "        info_mat, info_vec = add_satellite(data, info_mat, info_vec, fusion)\n",
    "    pred = ((inv(info_mat) @ info_vec))\n",
    "    covs = np.sqrt(np.diag(inv(info_mat)))[:3].reshape(3,)\n",
    "    error = pred - mu\n",
    "    \n",
    "    mse.append(MSE(mu, pred))\n",
    "    anees.append(error.T @ info_mat @ error)"
   ]
  },
  {
   "cell_type": "code",
   "execution_count": 18,
   "metadata": {},
   "outputs": [
    {
     "name": "stdout",
     "output_type": "stream",
     "text": [
      "2.575498221424346e-16\n",
      "50.15925079950615\n"
     ]
    }
   ],
   "source": [
    "print(np.average(mse))\n",
    "print(np.average(anees))"
   ]
  },
  {
   "cell_type": "code",
   "execution_count": null,
   "metadata": {},
   "outputs": [],
   "source": []
  }
 ],
 "metadata": {
  "kernelspec": {
   "display_name": "Python 3",
   "language": "python",
   "name": "python3"
  },
  "language_info": {
   "codemirror_mode": {
    "name": "ipython",
    "version": 3
   },
   "file_extension": ".py",
   "mimetype": "text/x-python",
   "name": "python",
   "nbconvert_exporter": "python",
   "pygments_lexer": "ipython3",
   "version": "3.6.3"
  }
 },
 "nbformat": 4,
 "nbformat_minor": 2
}
